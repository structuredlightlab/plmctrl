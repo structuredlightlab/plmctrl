{
 "cells": [
  {
   "cell_type": "code",
   "execution_count": 1,
   "metadata": {},
   "outputs": [],
   "source": [
    "# Written by Une Butaite & José Carlos A. R.\n",
    "# Date: 19/Mar/2025\n",
    "\n",
    "import numpy as np\n",
    "import ctypes\n",
    "from PLMController import PLMController \n",
    "import matplotlib.pyplot as plt"
   ]
  },
  {
   "cell_type": "code",
   "execution_count": null,
   "metadata": {},
   "outputs": [],
   "source": [
    "MAX_FRAMES = 4 # Maximum number of RGB frames to be stored in plmctrl's memory space. Each frame contains 24 holograms. -- Limited by your RAM available\n",
    "N = 1358 # PLM width in pixels: 1358\n",
    "M = 800 # PLM height in pixels: 800\n",
    "\n",
    "# This is the offset to the PLM virtual monitor. (0, 0) is the top left corner of your main screen. \n",
    "# The example below ( x0 = 1920, y0 = 0 ) is for the PLM monitor to be on the right of the main 1080p screen.\n",
    "x0 = 1920\n",
    "y0 = 0\n",
    "\n",
    "relativePath = r'..\\bin\\plmctrl.dll'\n",
    "\n",
    "# Create PLMController instance\n",
    "plm = PLMController(MAX_FRAMES, N, M, relativePath, x0, y0)"
   ]
  },
  {
   "cell_type": "code",
   "execution_count": null,
   "metadata": {},
   "outputs": [],
   "source": [
    "plm.set_windowed(True) # Only for debug purposes -- Suggested if you're testing how this library works.\n",
    "\n",
    "# set phase levels\n",
    "phase_levels = np.array((0.004, 0.017, 0.036, 0.058, 0.085, 0.117, 0.157, 0.217, 0.296, 0.4, 0.5, 0.605, 0.713, 0.82, 0.922, 0.981, 1), dtype=np.float32)\n",
    "plm.set_lookup_table(phase_levels)\n",
    "\n",
    "# set phase map\n",
    "phase_map = np.array([\n",
    "    [0, 0, 0, 0],\n",
    "    [1, 0, 0, 0],\n",
    "    [0, 1, 0, 0],\n",
    "    [1, 1, 0, 0],\n",
    "    [0, 0, 1, 0],\n",
    "    [1, 0, 1, 0],\n",
    "    [0, 1, 1, 0],\n",
    "    [1, 1, 1, 0],\n",
    "    [0, 0, 0, 1],\n",
    "    [1, 0, 0, 1],\n",
    "    [0, 1, 0, 1],\n",
    "    [1, 1, 0, 1],\n",
    "    [0, 0, 1, 1],\n",
    "    [1, 0, 1, 1],\n",
    "    [0, 1, 1, 1],\n",
    "    [1, 1, 1, 1],\n",
    "])\n",
    "\n",
    "phase_map_order = (13, 0, 9, 5, 1, 14, 10, 6, 2, 15, 11, 7, 3, 12, 8, 4)\n",
    "phase_map = phase_map[phase_map_order,:]\n",
    "plm.set_phase_map(phase_map)\n",
    "\n",
    "# Start the UI\n",
    "monitor_id = 1\n",
    "plm.start_ui(monitor_id)\n",
    "\n",
    "plm.play() # starts reading form the screen in the mode you have configured. plm.stop() to stop the playback"
   ]
  },
  {
   "cell_type": "code",
   "execution_count": 4,
   "metadata": {},
   "outputs": [
    {
     "name": "stdout",
     "output_type": "stream",
     "text": [
      "Setting connection to 1\n",
      "Setting Video Pattern Mode\n",
      "Updating bit lookup-table\n"
     ]
    }
   ],
   "source": [
    "# Configure the PLM for HDMI. Only run it once.\n",
    "HDMI = 1\n",
    "DisplayPort = 2\n",
    "\n",
    "PlayOnce = 0\n",
    "Continuous = 1\n",
    "\n",
    "plm.configure(Continuous, HDMI)"
   ]
  },
  {
   "cell_type": "code",
   "execution_count": null,
   "metadata": {},
   "outputs": [],
   "source": [
    "# Bitpacking and inserting one frame\n",
    "\n",
    "phase = np.zeros((24, M, N), dtype=np.float32)\n",
    "phase[:,:M//4,:N//4] = 0.0\n",
    "phase[:,:M//4,N//4:] = 0.2\n",
    "phase[:,M//4:,:N//4] = 0.3\n",
    "phase[:,M//4:,N//4:] = 0.9\n",
    "\n",
    "plt.imshow(phase[0,:,:])\n",
    "\n",
    "frame = plm.bitpack_holograms_gpu(phase)\n",
    "plm.insert_frames(frame, 0, format=1)"
   ]
  },
  {
   "cell_type": "code",
   "execution_count": 8,
   "metadata": {},
   "outputs": [],
   "source": [
    "# Bitpacking and inserting one frame at a time\n",
    "\n",
    "numHolograms = 24\n",
    "\n",
    "phase = np.zeros((numHolograms, M, N ), dtype = np.float32)\n",
    "for i in range(MAX_FRAMES):\n",
    "    a = np.linspace(0, i*2 + 1, np.shape(phase)[2])[None, :]\n",
    "    b = np.linspace(0, 0, np.shape(phase)[1])[:, None]\n",
    "    ph = np.mod(a + b, 1)\n",
    "    phase[:,:,:] = np.tile(ph[np.newaxis, :, :], (24, 1, 1))\n",
    "    \n",
    "    plm.bitpack_and_insert_gpu(phase, i)\n",
    "    \n",
    "    "
   ]
  },
  {
   "cell_type": "code",
   "execution_count": 7,
   "metadata": {},
   "outputs": [
    {
     "data": {
      "text/plain": [
       "1"
      ]
     },
     "execution_count": 7,
     "metadata": {},
     "output_type": "execute_result"
    }
   ],
   "source": [
    "# Bitpacking frames first and then inserting them all at once\n",
    "\n",
    "# Sending the pointers to the bitpack_holograms_gpu_ptr function is faster than using bitpack_holograms_gpu\n",
    "# This avoids creating the full RGB frame inside this function. Giving the pointers for plmctrl to act on them is faster.\n",
    "\n",
    "numHolograms = 24\n",
    "\n",
    "frames = np.zeros((MAX_FRAMES, 2*M, 4*2*N), dtype=np.uint8)\n",
    "phase = np.zeros((numHolograms, M, N), dtype=np.float32)\n",
    "\n",
    "for i in range(MAX_FRAMES):\n",
    "    a = np.linspace(0, 0, np.shape(phase)[2])[None, :]\n",
    "    b = np.linspace(0, i*2 + 1, np.shape(phase)[1])[:, None]\n",
    "    ph = np.mod(a + b, 1)\n",
    "    phase[:,:,:] = np.tile(ph[np.newaxis, :, :], (24, 1, 1))\n",
    "\n",
    "    phase_ptr = phase.ctypes.data_as(ctypes.POINTER(ctypes.c_float))\n",
    "    frame_i = frames[i,:,:]\n",
    "    frame_ptr = frame_i.ctypes.data_as(ctypes.POINTER(ctypes.c_uint8))  \n",
    "      \n",
    "    plm.bitpack_holograms_gpu_ptr(phase_ptr, frame_ptr, numHolograms)\n",
    "            \n",
    "plm.insert_frames(frames, 0, format=1)\n",
    "\n",
    "\n"
   ]
  },
  {
   "cell_type": "code",
   "execution_count": null,
   "metadata": {},
   "outputs": [
    {
     "name": "stdout",
     "output_type": "stream",
     "text": [
      "Python: Generating bitpacked hologram #1\n",
      "Python: Generating bitpacked hologram #2\n",
      "Python: Generating bitpacked hologram #3\n",
      "Python: Generating bitpacked hologram #4\n"
     ]
    },
    {
     "data": {
      "text/plain": [
       "1"
      ]
     },
     "execution_count": 9,
     "metadata": {},
     "output_type": "execute_result"
    }
   ],
   "source": [
    "# Create multiple holograms\n",
    "x, y = np.meshgrid(np.linspace(-1, 1, N), np.linspace(-M/N, M/N, M))\n",
    "wedge = lambda alpha, beta: alpha*x + beta*y\n",
    "\n",
    "numHolograms = 24\n",
    "\n",
    "frame = np.zeros((MAX_FRAMES, 2*M, 4*2*N), dtype=np.uint8) # by default, python uses row-major order.\n",
    "phase = np.zeros((numHolograms, M, N), dtype=np.float32)\n",
    "\n",
    "for j in range(MAX_FRAMES):\n",
    "\n",
    "    print(f\"Python: Generating bitpacked hologram #{j+1}\")\n",
    "    for i in range(numHolograms):\n",
    "        alpha = 2 * (np.random.rand() - 0.5)\n",
    "        beta = 2 * (np.random.rand() - 0.5)\n",
    "        phase[i,:,:] = np.mod(wedge(alpha, beta), 2*np.pi) / (2*np.pi)\n",
    "\n",
    "    phase_ptr = phase.ctypes.data_as(ctypes.POINTER(ctypes.c_float))\n",
    "    frame_j = frame[j,:,:]\n",
    "    frame_ptr = frame_j.ctypes.data_as(ctypes.POINTER(ctypes.c_uint8))  \n",
    "      \n",
    "    plm.bitpack_holograms_gpu_ptr(phase_ptr, frame_ptr, numHolograms)\n",
    "\n",
    "plm.insert_frames(frame, 0, format=1)"
   ]
  },
  {
   "cell_type": "code",
   "execution_count": null,
   "metadata": {},
   "outputs": [],
   "source": [
    "\n",
    "plm.cleanup()"
   ]
  }
 ],
 "metadata": {
  "kernelspec": {
   "display_name": "Python 3",
   "language": "python",
   "name": "python3"
  },
  "language_info": {
   "codemirror_mode": {
    "name": "ipython",
    "version": 3
   },
   "file_extension": ".py",
   "mimetype": "text/x-python",
   "name": "python",
   "nbconvert_exporter": "python",
   "pygments_lexer": "ipython3",
   "version": "3.12.10"
  }
 },
 "nbformat": 4,
 "nbformat_minor": 2
}
