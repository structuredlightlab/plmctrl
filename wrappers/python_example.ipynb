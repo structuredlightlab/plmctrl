{
 "cells": [
  {
   "cell_type": "code",
   "execution_count": 1,
   "metadata": {},
   "outputs": [],
   "source": [
    "import numpy as np\n",
    "import ctypes\n",
    "from PLMController import PLMController "
   ]
  },
  {
   "cell_type": "code",
   "execution_count": 2,
   "metadata": {},
   "outputs": [],
   "source": [
    "MAX_FRAMES = 12\n",
    "N = 1920 // 2\n",
    "M = 1080 // 2\n",
    "\n",
    "fullpath = r'C:\\Users\\carl00s01\\source\\repos\\plmctrl\\bin\\plmctrl.dll'\n",
    "\n",
    "# Create PLMController instance\n",
    "plm = PLMController(MAX_FRAMES, N, M, fullpath)"
   ]
  },
  {
   "cell_type": "code",
   "execution_count": 4,
   "metadata": {},
   "outputs": [],
   "source": [
    "# Start the UI\n",
    "monitor_id = 1\n",
    "plm.start_ui(monitor_id)"
   ]
  },
  {
   "cell_type": "code",
   "execution_count": 5,
   "metadata": {},
   "outputs": [],
   "source": [
    "plm.cleanup()"
   ]
  },
  {
   "cell_type": "code",
   "execution_count": 35,
   "metadata": {},
   "outputs": [
    {
     "data": {
      "text/plain": [
       "1"
      ]
     },
     "execution_count": 35,
     "metadata": {},
     "output_type": "execute_result"
    }
   ],
   "source": [
    "# Simple test: Insert a random hologram into the sequence\n",
    "frame = np.random.randint(0, 256, (4*2*N, 2*M, 1), dtype=np.uint8)\n",
    "offset = 0\n",
    "plm.insert_frames(frame, offset, format=1)"
   ]
  },
  {
   "cell_type": "code",
   "execution_count": 34,
   "metadata": {},
   "outputs": [],
   "source": [
    "# Insert a set of frames into the sequence\n",
    "num_frames = 10\n",
    "frames = np.random.randint(0, 256, (4*2*N, 2*M, num_frames), dtype=np.uint8)\n",
    "offset = 0\n",
    "plm.insert_frames(frames, offset,format = 1)\n",
    "\n",
    "# Set the frame sequence to be displayed\n",
    "sequence = np.array([0,1,2,3,4,5,6,7,8,9,10], dtype=np.uint64)\n",
    "plm.set_frame_sequence(sequence)"
   ]
  },
  {
   "cell_type": "code",
   "execution_count": 48,
   "metadata": {},
   "outputs": [
    {
     "name": "stdout",
     "output_type": "stream",
     "text": [
      "Python: Generating bitpacked hologram #1\n"
     ]
    }
   ],
   "source": [
    "# Create multiple holograms\n",
    "x, y = np.meshgrid(np.linspace(-1, 1, M), np.linspace(-M/N, M/N, N))\n",
    "wedge = lambda alpha, beta: alpha*x + beta*y\n",
    "\n",
    "numHolograms = 24\n",
    "\n",
    "frame = np.zeros((4*2*N, 2*M, 1), dtype=np.uint8)\n",
    "\n",
    "for j in range(1):\n",
    "    print(f\"Python: Generating bitpacked hologram #{j+1}\")\n",
    "    phase = np.zeros((N, M, numHolograms), order='F', dtype=np.float32)\n",
    "    for i in range(numHolograms):\n",
    "        alpha = 2 * (np.random.rand() - 0.5)\n",
    "        beta = 2 * (np.random.rand() - 0.5)\n",
    "        phase[:,:,i] = np.mod(wedge(alpha, beta), 2*np.pi) / (2*np.pi)\n",
    "    frame[:,:,0] = plm.bitpack_holograms_gpu(phase)\n",
    "    plm.insert_frames(frame, 0, format=1)\n",
    "\n",
    "# sequence = np.arange(MAX_FRAMES, dtype=np.uint64)\n",
    "# plm.set_frame_sequence(sequence)\n",
    "\n",
    "\n",
    "# Start sequence\n",
    "# plm.start_sequence(MAX_FRAMES)\n"
   ]
  },
  {
   "cell_type": "code",
   "execution_count": 37,
   "metadata": {},
   "outputs": [
    {
     "data": {
      "text/plain": [
       "(1920, 270)"
      ]
     },
     "execution_count": 37,
     "metadata": {},
     "output_type": "execute_result"
    }
   ],
   "source": [
    "# Start sequence\n",
    "a.shape"
   ]
  },
  {
   "cell_type": "code",
   "execution_count": 18,
   "metadata": {},
   "outputs": [],
   "source": [
    "plm.cleanup()"
   ]
  }
 ],
 "metadata": {
  "kernelspec": {
   "display_name": "Python 3",
   "language": "python",
   "name": "python3"
  },
  "language_info": {
   "codemirror_mode": {
    "name": "ipython",
    "version": 3
   },
   "file_extension": ".py",
   "mimetype": "text/x-python",
   "name": "python",
   "nbconvert_exporter": "python",
   "pygments_lexer": "ipython3",
   "version": "3.8.9"
  }
 },
 "nbformat": 4,
 "nbformat_minor": 2
}
